{
  "cells": [
    {
      "cell_type": "markdown",
      "metadata": {
        "id": "-Gu9bddaf30D"
      },
      "source": [
        "## Non-Linear/Extended Kalman filter (EKF)\n",
        "\n",
        "Ex: self-driving car position state estimation in order to compute the angle model measured by front-facing camera of the vehicle\n",
        "\n",
        "![image](https://github.com/afondiel/Self-Driving-Cars-Specialization-Coursera/blob/main/Course2-State-Estimation-and-Localization-for-Self-Driving-Cars/resources/w2/l3-EKF8-short.png?raw=true)\n"
      ]
    },
    {
      "cell_type": "code",
      "execution_count": 1,
      "metadata": {
        "colab": {
          "base_uri": "https://localhost:8080/"
        },
        "id": "hsm-7nzlf79G",
        "outputId": "87208812-f231-4900-f77a-3fb120478d51"
      },
      "outputs": [
        {
          "output_type": "stream",
          "name": "stdout",
          "text": [
            "xk_p:[[2.5]\n",
            " [4. ]], Pk_p:[[0.36 0.5 ]\n",
            " [0.5  1.1 ]], Hk:[[0.01 0.  ]], Hk.T:[[0.01]\n",
            " [0.  ]]\n",
            "xk_p-.shape:(2, 1), Pk_p-.shape:(2, 2), Hk-shape:(1, 2), Hk.T-shape:(2, 1)\n",
            "xk:[[2.67796293]\n",
            " [4.24776676]], xk-shape:(2, 1)\n",
            "\n",
            "Pk:[[0.35871507 0.49821537]\n",
            " [0.49821107 1.09751537]], Pk_p:[[0.36 0.5 ]\n",
            " [0.5  1.1 ]],  Pk-shape:(2, 2),  Pk_p-shape:(2, 2)\n",
            "np.dot(Kk, Hk):[[0.00356926 0.        ]\n",
            " [0.00496926 0.        ]],  np.dot(Kk, Hk),-shape:(2, 2)\n"
          ]
        },
        {
          "output_type": "stream",
          "name": "stderr",
          "text": [
            "<ipython-input-1-c876af85fd28>:38: VisibleDeprecationWarning: Creating an ndarray from ragged nested sequences (which is a list-or-tuple of lists-or-tuples-or ndarrays with different lengths or shapes) is deprecated. If you meant to do this, you must specify 'dtype=object' when creating the ndarray.\n",
            "  wk = np.array([0, Qk])\n",
            "<ipython-input-1-c876af85fd28>:52: DeprecationWarning: setting an array element with a sequence. This was supported in some cases where the elements are arrays with a single element. For example `np.array([1, np.array([2])], dtype=int)`. In the future this will raise the same ValueError as `np.array([1, [2]], dtype=int)`.\n",
            "  Hk = np.array([[np.round(meas_model[0], 3), 0]], dtype=float)\n"
          ]
        }
      ],
      "source": [
        "import numpy as np\n",
        "from numpy.linalg import inv\n",
        "import matplotlib.pyplot as plt\n",
        "\n",
        "# initialize the parameter and input estimates:\n",
        "# x0 = [p, p_dot].T  => the estimate parameter vector => position of the vehicle (m)\n",
        "# u0 = control signal => scalar\n",
        "\"\"\"estimate to be corrected\"\"\"\n",
        "# x0 : mean\n",
        "xk = np.array([[0, 5]]).T\n",
        "# P0 : Covariance\n",
        "Pk = np.array([[0.01, 0], [0, 1]])\n",
        "\n",
        "# u => acceleration of the vehicle / double derivative of position (p_ddot) \n",
        "# vehicle moving with constant speed => a = 0\n",
        "uk  = -2.0 # [m/s^2]\n",
        " \n",
        "# (S , D) are known\n",
        "S, D = (20, 40)\n",
        "\n",
        "# Measurement model \n",
        "# yk = phi = h(pk, vk) # [m]\n",
        "################################\n",
        "## phi = Arctan(S/D_pk) + vk  ##\n",
        "################################\n",
        "xk_p = xk\n",
        "meas_model = np.arctan(S/((D - xk_p)**2 + S**2)) # phi in Rad\n",
        "# first measurement\n",
        "yk = np.pi/6 # rad\n",
        "# measurement time at t=0.5s\n",
        "dt = 0.5 # s\n",
        "\n",
        "# Noise density\n",
        "Rk = 0.01\n",
        "Qk = 0.1*np.eye(2)\n",
        "\n",
        "# Process/noise\n",
        "wk = np.array([0, Qk])\n",
        "# measurement noise\n",
        "vk = np.array([0, 0.01])\n",
        "\n",
        "# Motion model Jacobian \n",
        "Fk = np.array([[1, dt], [0, 1]], dtype=float)\n",
        "Lk = np.eye(2)\n",
        "Gk = np.array([[0, dt]]).T\n",
        "\n",
        "\n",
        "# Measurement model Jacobian\n",
        "# meas_model : array([[0.00999967],\n",
        "#        [0.01230707]]) \n",
        "# format the value to 3 decimal numbers precision\n",
        "Hk = np.array([[np.round(meas_model[0], 3), 0]], dtype=float)\n",
        "Mk = np.eye(2)\n",
        "\n",
        "\"\"\"  \n",
        "- KF implementation\n",
        "- Prediction  (xk_check, Pk_check)\n",
        "- Optmal Gain (Kk)\n",
        "- Correction  (xk_hat, Pk_hat)\n",
        "\n",
        "  - Number of measurements\n",
        "  - The measurement data may come from a real time sensor measurement of the vehicle ou from a batch of measurement (.csv file for ex.)\n",
        "    - num_meas = read_sensor_ measurement(camera) ?\n",
        "    - num_meas = batch_array ? \n",
        "    - x_hist = np.zeros((num_meas + 1, 2))\n",
        "    - P_hist = np.zeros((num_meas + 1, 2, 2))\n",
        "\"\"\"  \n",
        "# for k in num_meas: # in case we have more than one measurement\n",
        "\n",
        "# Prediction (xk_check, Pk_check)\n",
        "## motion/process model\n",
        "xk_p = np.dot(Fk, xk) + np.dot(Gk, uk)\n",
        "\n",
        "## uncertainty\n",
        "Pk_p = np.dot(Fk, np.dot(Pk, Fk.T)) + np.dot(Lk, np.dot(Qk, Lk.T))\n",
        "\n",
        "print(f'xk_p:{xk_p}, Pk_p:{Pk_p}, Hk:{Hk}, Hk.T:{Hk.T}')\n",
        "print(f'xk_p-.shape:{xk_p.shape}, Pk_p-.shape:{Pk_p.shape}, Hk-shape:{Hk.shape}, Hk.T-shape:{Hk.T.shape}')\n",
        "\n",
        "## Optimal Gain (Kk)\n",
        "# ValueError: shapes (2,1) and (2,2) not aligned: 1 (dim 1) != 2 (dim 0)\n",
        "# solution I inverteded to respect dot product : dot(inv, Pk_p_dot_Hk) <=> (2x2)*(2x1)\n",
        "Kk = np.dot( inv(np.dot(Hk, np.dot(Pk_p, Hk.T)) + np.dot(Mk, np.dot(Rk, Mk.T))), np.dot(Pk_p, Hk.T)) \n",
        "\n",
        "# Correction  (xk_hat, Pk_hat)\n",
        "## measurement model\n",
        "# print(f'Kk:{Kk}, Pk_p:{Pk_p}, Hk:{Hk}, Hk.T:{Hk.T},  Rk:{Rk}, yk:{yk}\\n')\n",
        "# print(f'Kk-.shape:{Kk.shape}, Pk_p-.shape:{Pk_p.shape}, Hk-shape:{Hk.shape}, Hk.T-shape:{Hk.T.shape}')\n",
        "## xk corrected\n",
        "xk = xk_p + np.dot(Kk, (yk - np.dot(Hk, xk_p))) \n",
        "print(f'xk:{xk}, xk-shape:{xk_p.shape}\\n')\n",
        "\n",
        "## Pk corrected\n",
        "I = np.eye(2) # Identity matrix (2x2)\n",
        "Pk = np.dot(I - np.dot(Kk, Hk), Pk_p) \n",
        "\n",
        "print(f'Pk:{Pk}, Pk_p:{Pk_p},  Pk-shape:{Pk.shape},  Pk_p-shape:{Pk_p.shape}')\n",
        "print(f'np.dot(Kk, Hk):{np.dot(Kk, Hk)},  np.dot(Kk, Hk),-shape:{np.dot(Kk, Hk).shape}')\n"
      ]
    },
    {
      "cell_type": "code",
      "source": [],
      "metadata": {
        "id": "W05Hl7d4HGiw"
      },
      "execution_count": 1,
      "outputs": []
    }
  ],
  "metadata": {
    "colab": {
      "provenance": []
    },
    "kernelspec": {
      "display_name": "Python 3",
      "name": "python3"
    },
    "language_info": {
      "name": "python"
    }
  },
  "nbformat": 4,
  "nbformat_minor": 0
}